{
 "cells": [
  {
   "cell_type": "markdown",
   "id": "80b1dbeb",
   "metadata": {},
   "source": [
    "# 05. K-Means"
   ]
  },
  {
   "cell_type": "code",
   "execution_count": 1,
   "id": "1671a34d",
   "metadata": {},
   "outputs": [],
   "source": [
    "import numpy as np\n",
    "import matplotlib.pyplot as plt\n",
    "import pandas as pd"
   ]
  },
  {
   "cell_type": "code",
   "execution_count": 2,
   "id": "053518be",
   "metadata": {},
   "outputs": [
    {
     "data": {
      "text/html": [
       "<div>\n",
       "<style scoped>\n",
       "    .dataframe tbody tr th:only-of-type {\n",
       "        vertical-align: middle;\n",
       "    }\n",
       "\n",
       "    .dataframe tbody tr th {\n",
       "        vertical-align: top;\n",
       "    }\n",
       "\n",
       "    .dataframe thead th {\n",
       "        text-align: right;\n",
       "    }\n",
       "</style>\n",
       "<table border=\"1\" class=\"dataframe\">\n",
       "  <thead>\n",
       "    <tr style=\"text-align: right;\">\n",
       "      <th></th>\n",
       "      <th>hour</th>\n",
       "      <th>score</th>\n",
       "    </tr>\n",
       "  </thead>\n",
       "  <tbody>\n",
       "    <tr>\n",
       "      <th>0</th>\n",
       "      <td>7.33</td>\n",
       "      <td>73</td>\n",
       "    </tr>\n",
       "    <tr>\n",
       "      <th>1</th>\n",
       "      <td>3.71</td>\n",
       "      <td>55</td>\n",
       "    </tr>\n",
       "    <tr>\n",
       "      <th>2</th>\n",
       "      <td>3.43</td>\n",
       "      <td>55</td>\n",
       "    </tr>\n",
       "    <tr>\n",
       "      <th>3</th>\n",
       "      <td>3.06</td>\n",
       "      <td>89</td>\n",
       "    </tr>\n",
       "    <tr>\n",
       "      <th>4</th>\n",
       "      <td>3.33</td>\n",
       "      <td>79</td>\n",
       "    </tr>\n",
       "  </tbody>\n",
       "</table>\n",
       "</div>"
      ],
      "text/plain": [
       "   hour  score\n",
       "0  7.33     73\n",
       "1  3.71     55\n",
       "2  3.43     55\n",
       "3  3.06     89\n",
       "4  3.33     79"
      ]
     },
     "execution_count": 2,
     "metadata": {},
     "output_type": "execute_result"
    }
   ],
   "source": [
    "dataset = pd.read_csv('KMeansData.csv')\n",
    "dataset[:5]"
   ]
  },
  {
   "cell_type": "code",
   "execution_count": 3,
   "id": "e332554f",
   "metadata": {},
   "outputs": [
    {
     "data": {
      "text/plain": [
       "array([[ 7.33, 73.  ],\n",
       "       [ 3.71, 55.  ],\n",
       "       [ 3.43, 55.  ],\n",
       "       [ 3.06, 89.  ],\n",
       "       [ 3.33, 79.  ]])"
      ]
     },
     "execution_count": 3,
     "metadata": {},
     "output_type": "execute_result"
    }
   ],
   "source": [
    "X = dataset.iloc[:, :].values\n",
    "# X = dataset.values\n",
    "# X = dataset.to_numpy()\n",
    "X[:5]"
   ]
  },
  {
   "cell_type": "markdown",
   "id": "69e5e543",
   "metadata": {},
   "source": [
    "### Data Visualization before Scaling"
   ]
  },
  {
   "cell_type": "code",
   "execution_count": 4,
   "id": "81091701",
   "metadata": {},
   "outputs": [
    {
     "data": {
      "image/png": "[encoded data removed]",
      "text/plain": [
       "<Figure size 432x288 with 1 Axes>"
      ]
     },
     "metadata": {
      "needs_background": "light"
     },
     "output_type": "display_data"
    }
   ],
   "source": [
    "plt.scatter(X[:, 0], X[:, 1])\n",
    "plt.title('Socre by hours')\n",
    "plt.xlabel('Hours')\n",
    "plt.ylabel('Score')\n",
    "plt.show()"
   ]
  },
  {
   "cell_type": "code",
   "execution_count": 5,
   "id": "f0329272",
   "metadata": {},
   "outputs": [
    {
     "data": {
      "image/png": "[encoded data removed]",
      "text/plain": [
       "<Figure size 432x288 with 1 Axes>"
      ]
     },
     "metadata": {
      "needs_background": "light"
     },
     "output_type": "display_data"
    }
   ],
   "source": [
    "plt.scatter(X[:, 0], X[:, 1])\n",
    "plt.title('Socre by hours')\n",
    "plt.xlabel('Hours')\n",
    "plt.xlim(0, 100)\n",
    "plt.ylabel('Score')\n",
    "plt.ylim(0, 100)\n",
    "plt.show()"
   ]
  },
  {
   "cell_type": "markdown",
   "id": "53818619",
   "metadata": {},
   "source": [
    "### Feature Scaling"
   ]
  },
  {
   "cell_type": "code",
   "execution_count": 6,
   "id": "416f75b7",
   "metadata": {},
   "outputs": [
    {
     "data": {
      "text/plain": [
       "array([[ 0.68729921,  0.73538376],\n",
       "       [-0.66687438,  0.04198891],\n",
       "       [-0.77161709,  0.04198891],\n",
       "       [-0.9100271 ,  1.35173473],\n",
       "       [-0.8090252 ,  0.96651537]])"
      ]
     },
     "execution_count": 6,
     "metadata": {},
     "output_type": "execute_result"
    }
   ],
   "source": [
    "from sklearn.preprocessing import StandardScaler\n",
    "sc = StandardScaler()\n",
    "X = sc.fit_transform(X)\n",
    "X[:5]"
   ]
  },
  {
   "cell_type": "markdown",
   "id": "c8876b88",
   "metadata": {},
   "source": [
    "### Data Visualization after Scaling"
   ]
  },
  {
   "cell_type": "code",
   "execution_count": 7,
   "id": "77f8ef68",
   "metadata": {},
   "outputs": [
    {
     "data": {
      "image/png": "[encoded data removed]",
      "text/plain": [
       "<Figure size 360x360 with 1 Axes>"
      ]
     },
     "metadata": {
      "needs_background": "light"
     },
     "output_type": "display_data"
    }
   ],
   "source": [
    "plt.figure(figsize=(5, 5))\n",
    "plt.scatter(X[:, 0], X[:, 1])\n",
    "plt.title('Socre by hours')\n",
    "plt.xlabel('Hours')\n",
    "plt.ylabel('Score')\n",
    "plt.show()"
   ]
  },
  {
   "cell_type": "markdown",
   "id": "c85c2444",
   "metadata": {},
   "source": [
    "### Finding a Optimal K Value (Elbow Method)"
   ]
  },
  {
   "cell_type": "code",
   "execution_count": 8,
   "id": "4606689e",
   "metadata": {},
   "outputs": [
    {
     "data": {
      "image/png": "[encoded data removed]",
      "text/plain": [
       "<Figure size 432x288 with 1 Axes>"
      ]
     },
     "metadata": {
      "needs_background": "light"
     },
     "output_type": "display_data"
    }
   ],
   "source": [
    "from sklearn.cluster import KMeans\n",
    "inertia_list = []\n",
    "for i in range(1, 11):\n",
    "    kmeans = KMeans(n_clusters=i, init='k-means++', random_state=0)\n",
    "    kmeans.fit(X)\n",
    "    inertia_list.append(kmeans.inertia_) # Finding a sum of squared distance between each point and centroid\n",
    "    \n",
    "plt.plot(range(1, 11), inertia_list)\n",
    "plt.title('Elbow Method')\n",
    "plt.xlabel('n_clusters')\n",
    "plt.ylabel('inertia')\n",
    "plt.show()"
   ]
  },
  {
   "cell_type": "markdown",
   "id": "d1cc43f7",
   "metadata": {},
   "source": [
    "### K-Means training using the optimal K"
   ]
  },
  {
   "cell_type": "code",
   "execution_count": 9,
   "id": "62304df7",
   "metadata": {},
   "outputs": [],
   "source": [
    "K = 4"
   ]
  },
  {
   "cell_type": "code",
   "execution_count": 10,
   "id": "aa54edcb",
   "metadata": {},
   "outputs": [],
   "source": [
    "kmeans = KMeans(n_clusters=K, random_state=0)\n",
    "# kmeans.fit(X)\n",
    "y_kmeans = kmeans.fit_predict(X)"
   ]
  },
  {
   "cell_type": "code",
   "execution_count": 11,
   "id": "90d67206",
   "metadata": {},
   "outputs": [
    {
     "data": {
      "text/plain": [
       "array([2, 3, 3, 0, 0, 1, 1, 0, 2, 0, 0, 3, 1, 3, 3, 0, 1, 2, 3, 0, 1, 0,\n",
       "       3, 1, 2, 2, 3, 3, 3, 3, 1, 1, 3, 0, 2, 2, 3, 0, 0, 0, 3, 1, 2, 3,\n",
       "       3, 2, 1, 0, 1, 1, 2, 0, 1, 1, 0, 0, 0, 0, 3, 1, 1, 2, 2, 2, 2, 1,\n",
       "       1, 0, 1, 2, 3, 2, 2, 2, 3, 3, 3, 3, 0, 2, 1, 2, 1, 1, 2, 0, 3, 1,\n",
       "       2, 3, 0, 1, 0, 2, 3, 2, 2, 0, 1, 3], dtype=int32)"
      ]
     },
     "execution_count": 11,
     "metadata": {},
     "output_type": "execute_result"
    }
   ],
   "source": [
    "y_kmeans"
   ]
  },
  {
   "cell_type": "markdown",
   "id": "a3d48ad1",
   "metadata": {},
   "source": [
    "### Data Visualization (K=4)"
   ]
  },
  {
   "cell_type": "code",
   "execution_count": 12,
   "id": "11fd6119",
   "metadata": {},
   "outputs": [
    {
     "data": {
      "text/plain": [
       "array([[-0.57163957,  0.85415973],\n",
       "       [ 0.8837666 , -1.26929779],\n",
       "       [ 0.94107583,  0.93569782],\n",
       "       [-1.22698889, -0.46768593]])"
      ]
     },
     "execution_count": 12,
     "metadata": {},
     "output_type": "execute_result"
    }
   ],
   "source": [
    "centers = kmeans.cluster_centers_ # locations of centroid of clusters\n",
    "centers"
   ]
  },
  {
   "cell_type": "code",
   "execution_count": 13,
   "id": "5fdd892c",
   "metadata": {},
   "outputs": [
    {
     "data": {
      "image/png": "[encoded data removed]",
      "text/plain": [
       "<Figure size 432x288 with 1 Axes>"
      ]
     },
     "metadata": {
      "needs_background": "light"
     },
     "output_type": "display_data"
    }
   ],
   "source": [
    "for cluster in range(K):\n",
    "    plt.scatter(X[y_kmeans == cluster, 0], X[y_kmeans == cluster, 1], s=100, edgecolor='black')\n",
    "    plt.scatter(centers[cluster, 0], centers[cluster, 1], s=300, edgecolor='black', color='yellow', marker='s') # square marker\n",
    "    plt.text(centers[cluster, 0], centers[cluster, 1], cluster, va='center', ha='center') # Adding texts to square marker\n",
    "    \n",
    "plt.title('Score by Hours')\n",
    "plt.xlabel('Hours')\n",
    "plt.ylabel('Score')\n",
    "plt.show()"
   ]
  },
  {
   "cell_type": "markdown",
   "id": "24151924",
   "metadata": {},
   "source": [
    "### Data Visualization (Return to its normal scale)"
   ]
  },
  {
   "cell_type": "code",
   "execution_count": 14,
   "id": "96039065",
   "metadata": {},
   "outputs": [
    {
     "data": {
      "text/plain": [
       "array([[ 7.33, 73.  ],\n",
       "       [ 3.71, 55.  ],\n",
       "       [ 3.43, 55.  ],\n",
       "       [ 3.06, 89.  ],\n",
       "       [ 3.33, 79.  ]])"
      ]
     },
     "execution_count": 14,
     "metadata": {},
     "output_type": "execute_result"
    }
   ],
   "source": [
    "X_org = sc.inverse_transform(X) # Return of feature scaling\n",
    "X_org[:5]"
   ]
  },
  {
   "cell_type": "code",
   "execution_count": 15,
   "id": "2c60fc9a",
   "metadata": {},
   "outputs": [
    {
     "data": {
      "text/plain": [
       "array([[ 3.96458333, 76.08333333],\n",
       "       [ 7.8552    , 20.96      ],\n",
       "       [ 8.0084    , 78.2       ],\n",
       "       [ 2.21269231, 41.76923077]])"
      ]
     },
     "execution_count": 15,
     "metadata": {},
     "output_type": "execute_result"
    }
   ],
   "source": [
    "centers_org = sc.inverse_transform(centers)\n",
    "centers_org"
   ]
  },
  {
   "cell_type": "code",
   "execution_count": 16,
   "id": "bef1f119",
   "metadata": {},
   "outputs": [
    {
     "data": {
      "image/png": "[encoded data removed]",
      "text/plain": [
       "<Figure size 432x288 with 1 Axes>"
      ]
     },
     "metadata": {
      "needs_background": "light"
     },
     "output_type": "display_data"
    }
   ],
   "source": [
    "for cluster in range(K):\n",
    "    plt.scatter(X_org[y_kmeans == cluster, 0], X_org[y_kmeans == cluster, 1], s=100, edgecolor='black')\n",
    "    plt.scatter(centers_org[cluster, 0], centers_org[cluster, 1], s=300, edgecolor='black', color='yellow', marker='s') \n",
    "    plt.text(centers_org[cluster, 0], centers_org[cluster, 1], cluster, va='center', ha='center') \n",
    "    \n",
    "plt.title('Score by Hours')\n",
    "plt.xlabel('Hours')\n",
    "plt.ylabel('Score')\n",
    "plt.show()"
   ]
  }
 ],
 "metadata": {
  "kernelspec": {
   "display_name": "Python 3 (ipykernel)",
   "language": "python",
   "name": "python3"
  },
  "language_info": {
   "codemirror_mode": {
    "name": "ipython",
    "version": 3
   },
   "file_extension": ".py",
   "mimetype": "text/x-python",
   "name": "python",
   "nbconvert_exporter": "python",
   "pygments_lexer": "ipython3",
   "version": "3.9.12"
  }
 },
 "nbformat": 4,
 "nbformat_minor": 5
}
